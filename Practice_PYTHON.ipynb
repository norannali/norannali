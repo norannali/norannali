{
  "nbformat": 4,
  "nbformat_minor": 0,
  "metadata": {
    "colab": {
      "provenance": [],
      "authorship_tag": "ABX9TyOhzMKcyOIDeiPBA7jHxRRa",
      "include_colab_link": true
    },
    "kernelspec": {
      "name": "python3",
      "display_name": "Python 3"
    },
    "language_info": {
      "name": "python"
    }
  },
  "cells": [
    {
      "cell_type": "markdown",
      "metadata": {
        "id": "view-in-github",
        "colab_type": "text"
      },
      "source": [
        "<a href=\"https://colab.research.google.com/github/norannali/norannali/blob/master/Practice_PYTHON.ipynb\" target=\"_parent\"><img src=\"https://colab.research.google.com/assets/colab-badge.svg\" alt=\"Open In Colab\"/></a>"
      ]
    },
    {
      "cell_type": "markdown",
      "source": [
        "**1-Question:**\n",
        "Write a Python program that takes a sentence as input and counts the number of vowels (a, e, i, o, u) in the sentence."
      ],
      "metadata": {
        "id": "L8vcZF5C9dJW"
      }
    },
    {
      "cell_type": "code",
      "execution_count": null,
      "metadata": {
        "colab": {
          "base_uri": "https://localhost:8080/"
        },
        "id": "Tk9YALFU9bo0",
        "outputId": "9cf5434a-2802-4c80-e3f9-6a7ad353add8"
      },
      "outputs": [
        {
          "output_type": "stream",
          "name": "stdout",
          "text": [
            "Enter Your sentence : HELLO world\n",
            "The number of vowels in the sentence is : 3\n"
          ]
        }
      ],
      "source": [
        "vowls='aeiou'\n",
        "strr=input('Enter Your sentence : ').lower()\n",
        "count=0\n",
        "for i in range(len(strr)):\n",
        "  if strr[i] in vowls:\n",
        "    count+=1\n",
        "print(f'The number of vowels in the sentence is : {count}')\n",
        "\n"
      ]
    },
    {
      "cell_type": "markdown",
      "source": [
        "**2. Lists:**\n",
        "\n",
        "Question:\n",
        "\n",
        "Given a list of numbers [1, 3, 5, 7, 9], write a Python program to double each element in the list and store the result in a new list."
      ],
      "metadata": {
        "id": "5514w1_5-bDS"
      }
    },
    {
      "cell_type": "code",
      "source": [
        "input_list=[1,3,5,7,9]\n",
        "output_list=[]\n",
        "for i in input_list:\n",
        "  output_list.append(i*2)\n",
        "print(output_list)"
      ],
      "metadata": {
        "colab": {
          "base_uri": "https://localhost:8080/"
        },
        "id": "80aL7dQL93Uo",
        "outputId": "60776087-e67b-4e01-bb1f-a5167acdb9ac"
      },
      "execution_count": null,
      "outputs": [
        {
          "output_type": "stream",
          "name": "stdout",
          "text": [
            "[2, 6, 10, 14, 18]\n"
          ]
        }
      ]
    },
    {
      "cell_type": "markdown",
      "source": [
        "**3.Sets:**\n",
        "\n",
        "Question:\n",
        "\n",
        "Create two sets: set1 = {1, 2, 3, 4} and set2 = {3, 4, 5, 6}. Write a Python program to find the union and intersection of the two sets."
      ],
      "metadata": {
        "id": "B4xKdrq--ygm"
      }
    },
    {
      "cell_type": "code",
      "source": [
        "set1={1,2,3,4}\n",
        "set2={3,4,5,6}\n",
        "print(f'Union:{set1.union(set2)}')\n",
        "print(f'Intersection:{set1.intersection(set2)}')"
      ],
      "metadata": {
        "colab": {
          "base_uri": "https://localhost:8080/"
        },
        "id": "lPsfhLw6-sgw",
        "outputId": "9d60152f-f7e1-4166-b265-79a25751b8ed"
      },
      "execution_count": null,
      "outputs": [
        {
          "output_type": "stream",
          "name": "stdout",
          "text": [
            "Union:{1, 2, 3, 4, 5, 6}\n",
            "Intersection:{3, 4}\n"
          ]
        }
      ]
    },
    {
      "cell_type": "markdown",
      "source": [
        "**4.Dictionaries:**\n",
        "\n",
        "Question:\n",
        "\n",
        "Given a dictionary {'a': 1, 'b': 2, 'c': 3}, write a Python program to swap the keys and values, so the resulting dictionary becomes {1: 'a', 2: 'b', 3: 'c'}."
      ],
      "metadata": {
        "id": "Q0YXHVjU_tBZ"
      }
    },
    {
      "cell_type": "code",
      "source": [
        "dic={'a':1,'b':2,'c':3}\n",
        "new_dic={}\n",
        "for key,value in dic.items():\n",
        "  new_dic[value]=key\n",
        "print(new_dic)"
      ],
      "metadata": {
        "colab": {
          "base_uri": "https://localhost:8080/"
        },
        "id": "WQxvXEN8_CAL",
        "outputId": "7d1555d7-6898-48d3-ccbe-cf3a7058dfff"
      },
      "execution_count": null,
      "outputs": [
        {
          "output_type": "stream",
          "name": "stdout",
          "text": [
            "{1: 'a', 2: 'b', 3: 'c'}\n"
          ]
        }
      ]
    },
    {
      "cell_type": "markdown",
      "source": [
        "**5.Tuples:**\n",
        "\n",
        "Question:\n",
        "\n",
        "Given a tuple (5, 10, 15, 20), write a Python program to convert it into a list, change the second element to 12, and then convert it back to a tuple."
      ],
      "metadata": {
        "id": "LxorEGk7AIjJ"
      }
    },
    {
      "cell_type": "code",
      "source": [
        "tuple_old=(5,10,15,20)\n",
        "list_new=list(tuple_old)\n",
        "list_new[1]=12\n",
        "tuple_new=tuple(list_new)\n",
        "print(tuple_new)"
      ],
      "metadata": {
        "colab": {
          "base_uri": "https://localhost:8080/"
        },
        "id": "gwsZ53Sx_2w7",
        "outputId": "bd962465-26f7-47d8-9000-dc259608b204"
      },
      "execution_count": null,
      "outputs": [
        {
          "output_type": "stream",
          "name": "stdout",
          "text": [
            "(5, 12, 15, 20)\n"
          ]
        }
      ]
    },
    {
      "cell_type": "markdown",
      "source": [
        "**6.Functions:**\n",
        "\n",
        "Question:\n",
        "\n",
        "Write a Python function named is_palindrome that takes a string as input and returns True if the string is a palindrome (reads the same forwards and backwards), and False otherwise."
      ],
      "metadata": {
        "id": "XZKvmL2HAa-u"
      }
    },
    {
      "cell_type": "code",
      "source": [
        "def is_palindrome(strr):\n",
        "  if strr==strr[::-1]:\n",
        "    return True\n",
        "  else:\n",
        "    return False\n",
        "strr=input('Enter Your string : ')\n",
        "print(is_palindrome(strr))"
      ],
      "metadata": {
        "colab": {
          "base_uri": "https://localhost:8080/"
        },
        "id": "HY6-aXO2AZkA",
        "outputId": "a6f139fd-a399-4358-bdb7-60ab1e866e5c"
      },
      "execution_count": null,
      "outputs": [
        {
          "output_type": "stream",
          "name": "stdout",
          "text": [
            "Enter Your string : hello\n",
            "False\n"
          ]
        }
      ]
    },
    {
      "cell_type": "markdown",
      "source": [
        "**7.Functions:**\n",
        "\n",
        "Question:\n",
        "\n",
        "Write a Python function named count_occurrences that takes two arguments: a list of integers and a target integer. The function should return a dictionary where the keys are the unique integers from the list, and the values are the number of times each integer occurs in the list. Additionally, if the target integer is present in the list, the function should also include the key \"target_count\" with its value being the number of times the target integer occurs.\n"
      ],
      "metadata": {
        "id": "0FJzJOZ-76Rl"
      }
    },
    {
      "cell_type": "code",
      "source": [
        "def count_occurrences(listt,target):\n",
        "  dic={}\n",
        "  for i in listt:\n",
        "    if i not in dic:\n",
        "      dic[i]=1\n",
        "    else:\n",
        "      dic[i]+=1\n",
        "  if target in listt:\n",
        "    dic['target_count']=listt.count(target)\n",
        "    return dic\n",
        "\n",
        "numbers=[1, 2, 2, 3, 4, 2, 5]\n",
        "target = 2\n",
        "result = count_occurrences(numbers, target)\n",
        "print(result)\n",
        "\n"
      ],
      "metadata": {
        "id": "n3za1z7gATte",
        "colab": {
          "base_uri": "https://localhost:8080/"
        },
        "outputId": "f2b28d45-0edf-4533-c6e0-59813fd888e7"
      },
      "execution_count": 1,
      "outputs": [
        {
          "output_type": "stream",
          "name": "stdout",
          "text": [
            "{1: 1, 2: 3, 3: 1, 4: 1, 5: 1, 'target_count': 3}\n"
          ]
        }
      ]
    },
    {
      "cell_type": "markdown",
      "source": [
        "**8.while loop:**\n",
        "\n",
        "Write a Python program that uses a while loop to generate a sequence of numbers starting from 1. The loop should continue generating numbers and adding them to a list until the sum of all numbers in the list exceeds 200. After the loop, print the list of numbers and the total sum of the numbers."
      ],
      "metadata": {
        "id": "dTkTaqi68sGt"
      }
    },
    {
      "cell_type": "code",
      "source": [
        "listt=[]\n",
        "sum=0\n",
        "x=1\n",
        "while sum<200:\n",
        "  listt.append(x)\n",
        "  sum+=x\n",
        "  x+=1\n",
        "print(listt)\n",
        "print(sum)\n",
        "\n"
      ],
      "metadata": {
        "colab": {
          "base_uri": "https://localhost:8080/"
        },
        "id": "kZPjROBg8dzH",
        "outputId": "cb61af6e-ba8f-4917-cb52-fb49ad6b2a12"
      },
      "execution_count": 3,
      "outputs": [
        {
          "output_type": "stream",
          "name": "stdout",
          "text": [
            "[1, 2, 3, 4, 5, 6, 7, 8, 9, 10, 11, 12, 13, 14, 15, 16, 17, 18, 19, 20]\n",
            "210\n"
          ]
        }
      ]
    },
    {
      "cell_type": "markdown",
      "source": [
        "**9. Question:**\n",
        "\n",
        "Write a Python function named remove_duplicates that takes a list of integers as input and returns a new list with duplicate values removed.\n",
        "\n",
        "The order of the original list should be preserved in the new list."
      ],
      "metadata": {
        "id": "wWlECMpqGh8M"
      }
    },
    {
      "cell_type": "markdown",
      "source": [
        "**Optimized Solution:**\n",
        "\n",
        "Explanation:\n",
        "\n",
        "Using a set helps in quickly checking for duplicates, as set operations are average O(1) in time complexity. The set is used to track seen numbers, and a list is used to maintain the order of unique elements.\n",
        "\n",
        "Optimized Code:"
      ],
      "metadata": {
        "id": "2ITayBFrGo5F"
      }
    },
    {
      "cell_type": "code",
      "source": [
        "def remove_duplicates(listt):\n",
        "  seen=set()\n",
        "  new_list=[]\n",
        "  for i in listt:\n",
        "    if i not in seen:\n",
        "      seen.add(i)\n",
        "      new_list.append(i)\n",
        "  return new_list\n",
        "numbers=[1, 2, 2, 3, 4, 4, 5]\n",
        "result = remove_duplicates(numbers)\n",
        "print(result)"
      ],
      "metadata": {
        "colab": {
          "base_uri": "https://localhost:8080/"
        },
        "id": "QdFET6Dn9UrU",
        "outputId": "cc1e79cb-070d-4bf2-81b2-ee4a14186e48"
      },
      "execution_count": 5,
      "outputs": [
        {
          "output_type": "stream",
          "name": "stdout",
          "text": [
            "[1, 2, 3, 4, 5]\n"
          ]
        }
      ]
    },
    {
      "cell_type": "markdown",
      "source": [
        "**10. Question:**\n",
        "\n",
        "Write a Python program that takes a list of words as input and creates a dictionary where the keys are the unique words in the list, and the values are lists containing the indices (positions) at which each word appears in the list.\n",
        "\n",
        "Expected Output:\n",
        "\n",
        "If the input list is [\"apple\", \"banana\", \"orange\", \"banana\", \"kiwi\", \"apple\"], the program should return {'apple': [0], 'banana': [1], 'orange': [3], 'kiwi': [4]}. Please write the Python code to accomplish this task."
      ],
      "metadata": {
        "id": "_cEquKUQG-2N"
      }
    },
    {
      "cell_type": "code",
      "source": [
        "def word_indices(listt):\n",
        "  dic={}\n",
        "  for i,word in enumerate(listt):\n",
        "    if word not in dic:\n",
        "      dic[word]=[]\n",
        "\n",
        "    dic[word].append(i)\n",
        "  return dic\n",
        "words=[\"apple\", \"banana\", \"orange\", \"banana\", \"kiwi\", \"apple\"]\n",
        "result = word_indices(words)\n",
        "print(result)"
      ],
      "metadata": {
        "colab": {
          "base_uri": "https://localhost:8080/"
        },
        "id": "39Pn-2VcHsTy",
        "outputId": "cd03481f-5bb4-453c-bad7-e5d0b16f4d8b"
      },
      "execution_count": 9,
      "outputs": [
        {
          "output_type": "stream",
          "name": "stdout",
          "text": [
            "{'apple': [0, 5], 'banana': [1, 3], 'orange': [2], 'kiwi': [4]}\n"
          ]
        }
      ]
    },
    {
      "cell_type": "code",
      "source": [],
      "metadata": {
        "id": "yzJdHgJ6HQ41"
      },
      "execution_count": null,
      "outputs": []
    }
  ]
}